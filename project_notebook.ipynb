{
 "cells": [
  {
   "cell_type": "markdown",
   "id": "e15ecd5c-9f2d-4c4c-bb7e-0f8d1f97c378",
   "metadata": {},
   "source": [
    "# DSCI100 Project: Predicting Playtime Range from Age and Experience"
   ]
  },
  {
   "cell_type": "markdown",
   "id": "d9894ce8-3b37-4989-8fe7-2f28a8ee6b47",
   "metadata": {},
   "source": [
    "#### Group 42\n",
    "#### Members: Linda Zhu, Eunelsy Trillanes, Lavender Sun, and Kelly Ye"
   ]
  },
  {
   "cell_type": "markdown",
   "id": "d6cd678e-8be7-4841-85f4-f7813b19434a",
   "metadata": {},
   "source": [
    "*Based on a player's age and experience, can we predict the range of hours — zero, low, medium, high, or extreme — that they will contribute?*"
   ]
  },
  {
   "cell_type": "code",
   "execution_count": null,
   "id": "03e9e997-1ceb-4751-b34f-d7cbf9e821cf",
   "metadata": {},
   "outputs": [],
   "source": []
  }
 ],
 "metadata": {
  "kernelspec": {
   "display_name": "R",
   "language": "R",
   "name": "ir"
  },
  "language_info": {
   "codemirror_mode": "r",
   "file_extension": ".r",
   "mimetype": "text/x-r-source",
   "name": "R",
   "pygments_lexer": "r",
   "version": "4.3.3"
  }
 },
 "nbformat": 4,
 "nbformat_minor": 5
}
