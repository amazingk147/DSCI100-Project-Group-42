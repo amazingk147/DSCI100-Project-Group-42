{
 "cells": [
  {
   "cell_type": "markdown",
   "id": "e15ecd5c-9f2d-4c4c-bb7e-0f8d1f97c378",
   "metadata": {},
   "source": [
    "# **DSCI100 Project: Predicting Playtime Range from Age and Experience**"
   ]
  },
  {
   "cell_type": "markdown",
   "id": "d9894ce8-3b37-4989-8fe7-2f28a8ee6b47",
   "metadata": {},
   "source": [
    "#### Group 42\n",
    "#### Members: Linda Zhu, Eunelsy Trillanes, Lavender Sun, and Kelly Ye"
   ]
  },
  {
   "cell_type": "markdown",
   "id": "e24c5847-34a6-483f-af02-6c61db64525f",
   "metadata": {},
   "source": [
    "## **Introduction**"
   ]
  },
  {
   "cell_type": "markdown",
   "id": "d6cd678e-8be7-4841-85f4-f7813b19434a",
   "metadata": {},
   "source": [
    "*Based on a player's age and experience, can we predict the range of hours — zero, low, medium, high, or extreme — that they will contribute?*\n",
    "\n",
    "**Instructions:** provide some relevant background information on the topic so that someone unfamiliar with it will be prepared to understand the rest of your report\n",
    "clearly state the question you tried to answer with your project\n",
    "identify and fully describe the dataset that was used to answer the question"
   ]
  },
  {
   "cell_type": "markdown",
   "id": "e5c20f86-f2ec-4bda-addd-d3a042c66a41",
   "metadata": {},
   "source": [
    "## **Methods and Results**"
   ]
  },
  {
   "cell_type": "markdown",
   "id": "af093f15-d7ec-4af3-a418-02e07f4e53ce",
   "metadata": {},
   "source": [
    "**Instructions:** describe the methods you used to perform your analysis from beginning to end that narrates the analysis code.\n",
    "your report should include code which:\n",
    "loads data \n",
    "wrangles and cleans the data to the format necessary for the planned analysis\n",
    "performs a summary of the data set that is relevant for exploratory data analysis related to the planned analysis \n",
    "creates a visualization of the dataset that is relevant for exploratory data analysis related to the planned analysis\n",
    "performs the data analysis\n",
    "creates a visualization of the analysis \n",
    "note: all figures should have a figure number and a legend"
   ]
  },
  {
   "cell_type": "code",
   "execution_count": 2,
   "id": "03e9e997-1ceb-4751-b34f-d7cbf9e821cf",
   "metadata": {},
   "outputs": [
    {
     "name": "stderr",
     "output_type": "stream",
     "text": [
      "── \u001b[1mAttaching core tidyverse packages\u001b[22m ──────────────────────── tidyverse 2.0.0 ──\n",
      "\u001b[32m✔\u001b[39m \u001b[34mdplyr    \u001b[39m 1.1.4     \u001b[32m✔\u001b[39m \u001b[34mreadr    \u001b[39m 2.1.5\n",
      "\u001b[32m✔\u001b[39m \u001b[34mforcats  \u001b[39m 1.0.0     \u001b[32m✔\u001b[39m \u001b[34mstringr  \u001b[39m 1.5.1\n",
      "\u001b[32m✔\u001b[39m \u001b[34mggplot2  \u001b[39m 3.5.1     \u001b[32m✔\u001b[39m \u001b[34mtibble   \u001b[39m 3.2.1\n",
      "\u001b[32m✔\u001b[39m \u001b[34mlubridate\u001b[39m 1.9.3     \u001b[32m✔\u001b[39m \u001b[34mtidyr    \u001b[39m 1.3.1\n",
      "\u001b[32m✔\u001b[39m \u001b[34mpurrr    \u001b[39m 1.0.2     \n",
      "── \u001b[1mConflicts\u001b[22m ────────────────────────────────────────── tidyverse_conflicts() ──\n",
      "\u001b[31m✖\u001b[39m \u001b[34mdplyr\u001b[39m::\u001b[32mfilter()\u001b[39m masks \u001b[34mstats\u001b[39m::filter()\n",
      "\u001b[31m✖\u001b[39m \u001b[34mdplyr\u001b[39m::\u001b[32mlag()\u001b[39m    masks \u001b[34mstats\u001b[39m::lag()\n",
      "\u001b[36mℹ\u001b[39m Use the conflicted package (\u001b[3m\u001b[34m<http://conflicted.r-lib.org/>\u001b[39m\u001b[23m) to force all conflicts to become errors\n",
      "── \u001b[1mAttaching packages\u001b[22m ────────────────────────────────────── tidymodels 1.1.1 ──\n",
      "\n",
      "\u001b[32m✔\u001b[39m \u001b[34mbroom       \u001b[39m 1.0.6     \u001b[32m✔\u001b[39m \u001b[34mrsample     \u001b[39m 1.2.1\n",
      "\u001b[32m✔\u001b[39m \u001b[34mdials       \u001b[39m 1.3.0     \u001b[32m✔\u001b[39m \u001b[34mtune        \u001b[39m 1.1.2\n",
      "\u001b[32m✔\u001b[39m \u001b[34minfer       \u001b[39m 1.0.7     \u001b[32m✔\u001b[39m \u001b[34mworkflows   \u001b[39m 1.1.4\n",
      "\u001b[32m✔\u001b[39m \u001b[34mmodeldata   \u001b[39m 1.4.0     \u001b[32m✔\u001b[39m \u001b[34mworkflowsets\u001b[39m 1.0.1\n",
      "\u001b[32m✔\u001b[39m \u001b[34mparsnip     \u001b[39m 1.2.1     \u001b[32m✔\u001b[39m \u001b[34myardstick   \u001b[39m 1.3.1\n",
      "\u001b[32m✔\u001b[39m \u001b[34mrecipes     \u001b[39m 1.1.0     \n",
      "\n",
      "── \u001b[1mConflicts\u001b[22m ───────────────────────────────────────── tidymodels_conflicts() ──\n",
      "\u001b[31m✖\u001b[39m \u001b[34mscales\u001b[39m::\u001b[32mdiscard()\u001b[39m masks \u001b[34mpurrr\u001b[39m::discard()\n",
      "\u001b[31m✖\u001b[39m \u001b[34mdplyr\u001b[39m::\u001b[32mfilter()\u001b[39m   masks \u001b[34mstats\u001b[39m::filter()\n",
      "\u001b[31m✖\u001b[39m \u001b[34mrecipes\u001b[39m::\u001b[32mfixed()\u001b[39m  masks \u001b[34mstringr\u001b[39m::fixed()\n",
      "\u001b[31m✖\u001b[39m \u001b[34mdplyr\u001b[39m::\u001b[32mlag()\u001b[39m      masks \u001b[34mstats\u001b[39m::lag()\n",
      "\u001b[31m✖\u001b[39m \u001b[34myardstick\u001b[39m::\u001b[32mspec()\u001b[39m masks \u001b[34mreadr\u001b[39m::spec()\n",
      "\u001b[31m✖\u001b[39m \u001b[34mrecipes\u001b[39m::\u001b[32mstep()\u001b[39m   masks \u001b[34mstats\u001b[39m::step()\n",
      "\u001b[34m•\u001b[39m Dig deeper into tidy modeling with R at \u001b[32mhttps://www.tmwr.org\u001b[39m\n",
      "\n"
     ]
    }
   ],
   "source": [
    "# Loading the necessary packages to read and process the data:\n",
    "library(tidyverse)\n",
    "library(repr)\n",
    "library(tidymodels)"
   ]
  },
  {
   "cell_type": "code",
   "execution_count": 3,
   "id": "72740f01-0448-483b-ba00-a82e79775c62",
   "metadata": {},
   "outputs": [
    {
     "name": "stderr",
     "output_type": "stream",
     "text": [
      "\u001b[1mRows: \u001b[22m\u001b[34m196\u001b[39m \u001b[1mColumns: \u001b[22m\u001b[34m9\u001b[39m\n",
      "\u001b[36m──\u001b[39m \u001b[1mColumn specification\u001b[22m \u001b[36m────────────────────────────────────────────────────────\u001b[39m\n",
      "\u001b[1mDelimiter:\u001b[22m \",\"\n",
      "\u001b[31mchr\u001b[39m (4): experience, hashedEmail, name, gender\n",
      "\u001b[32mdbl\u001b[39m (2): played_hours, age\n",
      "\u001b[33mlgl\u001b[39m (3): subscribe, individualId, organizationName\n",
      "\n",
      "\u001b[36mℹ\u001b[39m Use `spec()` to retrieve the full column specification for this data.\n",
      "\u001b[36mℹ\u001b[39m Specify the column types or set `show_col_types = FALSE` to quiet this message.\n"
     ]
    },
    {
     "data": {
      "text/html": [
       "<table class=\"dataframe\">\n",
       "<caption>A tibble: 6 × 3</caption>\n",
       "<thead>\n",
       "\t<tr><th scope=col>experience</th><th scope=col>played_hours</th><th scope=col>age</th></tr>\n",
       "\t<tr><th scope=col>&lt;chr&gt;</th><th scope=col>&lt;dbl&gt;</th><th scope=col>&lt;dbl&gt;</th></tr>\n",
       "</thead>\n",
       "<tbody>\n",
       "\t<tr><td>Pro    </td><td>30.3</td><td> 9</td></tr>\n",
       "\t<tr><td>Veteran</td><td> 3.8</td><td>17</td></tr>\n",
       "\t<tr><td>Veteran</td><td> 0.0</td><td>17</td></tr>\n",
       "\t<tr><td>Amateur</td><td> 0.7</td><td>21</td></tr>\n",
       "\t<tr><td>Regular</td><td> 0.1</td><td>21</td></tr>\n",
       "\t<tr><td>Amateur</td><td> 0.0</td><td>17</td></tr>\n",
       "</tbody>\n",
       "</table>\n"
      ],
      "text/latex": [
       "A tibble: 6 × 3\n",
       "\\begin{tabular}{lll}\n",
       " experience & played\\_hours & age\\\\\n",
       " <chr> & <dbl> & <dbl>\\\\\n",
       "\\hline\n",
       "\t Pro     & 30.3 &  9\\\\\n",
       "\t Veteran &  3.8 & 17\\\\\n",
       "\t Veteran &  0.0 & 17\\\\\n",
       "\t Amateur &  0.7 & 21\\\\\n",
       "\t Regular &  0.1 & 21\\\\\n",
       "\t Amateur &  0.0 & 17\\\\\n",
       "\\end{tabular}\n"
      ],
      "text/markdown": [
       "\n",
       "A tibble: 6 × 3\n",
       "\n",
       "| experience &lt;chr&gt; | played_hours &lt;dbl&gt; | age &lt;dbl&gt; |\n",
       "|---|---|---|\n",
       "| Pro     | 30.3 |  9 |\n",
       "| Veteran |  3.8 | 17 |\n",
       "| Veteran |  0.0 | 17 |\n",
       "| Amateur |  0.7 | 21 |\n",
       "| Regular |  0.1 | 21 |\n",
       "| Amateur |  0.0 | 17 |\n",
       "\n"
      ],
      "text/plain": [
       "  experience played_hours age\n",
       "1 Pro        30.3          9 \n",
       "2 Veteran     3.8         17 \n",
       "3 Veteran     0.0         17 \n",
       "4 Amateur     0.7         21 \n",
       "5 Regular     0.1         21 \n",
       "6 Amateur     0.0         17 "
      ]
     },
     "metadata": {},
     "output_type": "display_data"
    }
   ],
   "source": [
    "# Reading the data from a URL. Data is in .csv format, so read_csv is used.\n",
    "url <- \"https://drive.google.com/uc?export=download&id=1Mw9vW0hjTJwRWx0bDXiSpYsO3gKogaPz\"\n",
    "player_data <- read_csv(url) |>\n",
    "        # Selecting only the relevant variables to reduce the dataset size\n",
    "        select(experience, played_hours, age) \n",
    "\n",
    "head(player_data) # Preview the data!"
   ]
  },
  {
   "cell_type": "code",
   "execution_count": 10,
   "id": "d9bf293c-6592-40f9-8956-afc5befd8cf8",
   "metadata": {},
   "outputs": [],
   "source": [
    "# Manipulating the data! First, convert played_hours into a categorical variable.\n",
    "\n",
    "zero <- player_data |>\n",
    "        filter(played_hours == 0) |>\n",
    "        mutate(hours_range = \"Zero\")\n",
    "\n",
    "low <- player_data |>\n",
    "        filter(played_hours > 0 , played_hours <= 0.25) |>\n",
    "        mutate(hours_range = \"Low\")\n",
    "\n",
    "medium <- player_data |>\n",
    "        filter(played_hours > 0.25 , played_hours <= 1) |>\n",
    "        mutate(hours_range = \"Medium\")\n",
    "\n",
    "high <- player_data |>\n",
    "        filter(played_hours > 1, played_hours <= 5) |>\n",
    "        mutate(hours_range = \"High\")\n",
    "\n",
    "extreme <- player_data |>\n",
    "        filter(played_hours > 5) |>\n",
    "        mutate(hours_range = \"Extreme\")\n",
    "\n",
    "# Combining into one dataframe:\n",
    "\n",
    "player_data_classes <- rbind(zero, low, medium, high, extreme) |>\n",
    "                    group_by(experience)"
   ]
  },
  {
   "cell_type": "markdown",
   "id": "df5d3cad-fc3a-4d26-8fdf-e860926187cd",
   "metadata": {},
   "source": [
    "Next, converting experience level into a numerical variable by assigning values:"
   ]
  },
  {
   "cell_type": "code",
   "execution_count": 6,
   "id": "b621388d-ccc4-4c73-9f33-ed8f09424b9e",
   "metadata": {},
   "outputs": [],
   "source": [
    "amateur <- player_data_classes |>\n",
    "        filter(experience == \"Amateur\") |>\n",
    "        mutate(exp_level = 0)\n",
    "\n",
    "beginner <- player_data_classes |>\n",
    "        filter(experience == \"Beginner\") |>\n",
    "        mutate(exp_level = 1)\n",
    "\n",
    "regular <- player_data_classes |>\n",
    "        filter(experience == \"Regular\") |>\n",
    "        mutate(exp_level = 2)\n",
    "\n",
    "pro <- player_data_classes |>\n",
    "        filter(experience == \"Pro\") |>\n",
    "        mutate(exp_level = 3)\n",
    "\n",
    "veteran <- player_data_classes |>\n",
    "        filter(experience == \"Veteran\") |>\n",
    "        mutate(exp_level = 4)\n"
   ]
  },
  {
   "cell_type": "code",
   "execution_count": 9,
   "id": "1f4bd8a7-44fd-4b42-9f0c-397e76f63424",
   "metadata": {},
   "outputs": [
    {
     "data": {
      "text/html": [
       "<table class=\"dataframe\">\n",
       "<caption>A grouped_df: 6 × 3</caption>\n",
       "<thead>\n",
       "\t<tr><th scope=col>age</th><th scope=col>hours_range</th><th scope=col>exp_level</th></tr>\n",
       "\t<tr><th scope=col>&lt;dbl&gt;</th><th scope=col>&lt;chr&gt;</th><th scope=col>&lt;dbl&gt;</th></tr>\n",
       "</thead>\n",
       "<tbody>\n",
       "\t<tr><td>17</td><td>Zero</td><td>0</td></tr>\n",
       "\t<tr><td>21</td><td>Zero</td><td>0</td></tr>\n",
       "\t<tr><td>22</td><td>Zero</td><td>0</td></tr>\n",
       "\t<tr><td>17</td><td>Zero</td><td>0</td></tr>\n",
       "\t<tr><td>33</td><td>Zero</td><td>0</td></tr>\n",
       "\t<tr><td>17</td><td>Zero</td><td>0</td></tr>\n",
       "</tbody>\n",
       "</table>\n"
      ],
      "text/latex": [
       "A grouped\\_df: 6 × 3\n",
       "\\begin{tabular}{lll}\n",
       " age & hours\\_range & exp\\_level\\\\\n",
       " <dbl> & <chr> & <dbl>\\\\\n",
       "\\hline\n",
       "\t 17 & Zero & 0\\\\\n",
       "\t 21 & Zero & 0\\\\\n",
       "\t 22 & Zero & 0\\\\\n",
       "\t 17 & Zero & 0\\\\\n",
       "\t 33 & Zero & 0\\\\\n",
       "\t 17 & Zero & 0\\\\\n",
       "\\end{tabular}\n"
      ],
      "text/markdown": [
       "\n",
       "A grouped_df: 6 × 3\n",
       "\n",
       "| age &lt;dbl&gt; | hours_range &lt;chr&gt; | exp_level &lt;dbl&gt; |\n",
       "|---|---|---|\n",
       "| 17 | Zero | 0 |\n",
       "| 21 | Zero | 0 |\n",
       "| 22 | Zero | 0 |\n",
       "| 17 | Zero | 0 |\n",
       "| 33 | Zero | 0 |\n",
       "| 17 | Zero | 0 |\n",
       "\n"
      ],
      "text/plain": [
       "  age hours_range exp_level\n",
       "1 17  Zero        0        \n",
       "2 21  Zero        0        \n",
       "3 22  Zero        0        \n",
       "4 17  Zero        0        \n",
       "5 33  Zero        0        \n",
       "6 17  Zero        0        "
      ]
     },
     "metadata": {},
     "output_type": "display_data"
    }
   ],
   "source": [
    "final_dataset <- rbind(amateur, beginner, regular, pro, veteran) |>\n",
    "                    group_by(hours_range) |>\n",
    "                    select(age, hours_range, exp_level)\n",
    "\n",
    "head(final_dataset)"
   ]
  },
  {
   "cell_type": "markdown",
   "id": "e5adc971-18ed-4411-8769-ef6888054258",
   "metadata": {},
   "source": [
    "## **Discussion**"
   ]
  },
  {
   "cell_type": "markdown",
   "id": "0a40d90f-30be-4b64-b49a-c04fe4163c77",
   "metadata": {},
   "source": [
    "- summarize what you found\n",
    "- discuss whether this is what you expected to find?\n",
    "- discuss what impact could such findings have?\n",
    "- discuss what future questions could this lead to?"
   ]
  },
  {
   "cell_type": "markdown",
   "id": "9ac4d8de-76a8-4a68-9d9a-48b088dbb0b0",
   "metadata": {},
   "source": [
    "### **References**"
   ]
  },
  {
   "cell_type": "markdown",
   "id": "41612664-b847-4644-b2b6-3687f4c86829",
   "metadata": {},
   "source": [
    "Hi this is lInda"
   ]
  },
  {
   "cell_type": "code",
   "execution_count": null,
   "id": "5f20745a-f2a0-4826-b12a-fe15967e8282",
   "metadata": {},
   "outputs": [],
   "source": []
  }
 ],
 "metadata": {
  "kernelspec": {
   "display_name": "R",
   "language": "R",
   "name": "ir"
  },
  "language_info": {
   "codemirror_mode": "r",
   "file_extension": ".r",
   "mimetype": "text/x-r-source",
   "name": "R",
   "pygments_lexer": "r",
   "version": "4.3.3"
  }
 },
 "nbformat": 4,
 "nbformat_minor": 5
}
